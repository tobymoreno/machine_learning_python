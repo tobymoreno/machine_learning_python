{
 "cells": [
  {
   "cell_type": "code",
   "execution_count": null,
   "metadata": {
    "collapsed": true
   },
   "outputs": [],
   "source": [
    "import string"
   ]
  },
  {
   "cell_type": "code",
   "execution_count": null,
   "metadata": {
    "collapsed": true
   },
   "outputs": [],
   "source": [
    "import numpy as np"
   ]
  },
  {
   "cell_type": "code",
   "execution_count": null,
   "metadata": {
    "collapsed": true
   },
   "outputs": [],
   "source": [
    "from os import listdir\n",
    "from os.path import isfile, join, splitext\n",
    "from os import walk"
   ]
  },
  {
   "cell_type": "code",
   "execution_count": null,
   "metadata": {
    "collapsed": true
   },
   "outputs": [],
   "source": [
    "whitelist = ['.js', '.aspx', '.asp', '.cs', '.inc'] #mvc"
   ]
  },
  {
   "cell_type": "code",
   "execution_count": null,
   "metadata": {
    "collapsed": true
   },
   "outputs": [],
   "source": [
    "excludes = ['jquery','cultures','bin','cgi-bin']"
   ]
  },
  {
   "cell_type": "code",
   "execution_count": null,
   "metadata": {
    "collapsed": true
   },
   "outputs": [],
   "source": [
    "bag_of_words = []"
   ]
  },
  {
   "cell_type": "code",
   "execution_count": null,
   "metadata": {
    "collapsed": true
   },
   "outputs": [],
   "source": [
    "vocab={}\n",
    "folder_count = 0"
   ]
  },
  {
   "cell_type": "code",
   "execution_count": null,
   "metadata": {
    "collapsed": true
   },
   "outputs": [],
   "source": []
  },
  {
   "cell_type": "code",
   "execution_count": null,
   "metadata": {
    "collapsed": true
   },
   "outputs": [],
   "source": [
    "def recursiveLook(dir):\n",
    "    for d, folders, files in [f for f in walk(dir)]:\n",
    "        global folder_count\n",
    "        folder_count = folder_count + (len(folders))\n",
    "        \n",
    "        for f in files:\n",
    "            fileName, fileExtension = splitext(join(dir, f))\n",
    "            if fileExtension in whitelist:\n",
    "                id = join(d, f)\n",
    "                # prevents duplicate - not sure why.. need to fix\n",
    "                try:\n",
    "                    dir_scanned_files.index(id)\n",
    "                except:\n",
    "                    dir_scanned_files.append(id)        \n",
    "        \n",
    "        for folder in folders:\n",
    "            if not folder.startswith(\".\"):\n",
    "                if(folder not in excludes):\n",
    "                    recursiveLook(join(d, folder))\n"
   ]
  },
  {
   "cell_type": "code",
   "execution_count": null,
   "metadata": {
    "collapsed": true
   },
   "outputs": [],
   "source": [
    "dir='D:\\\\spider_work\\\\modtracker-master@888c89070ee'"
   ]
  },
  {
   "cell_type": "code",
   "execution_count": null,
   "metadata": {},
   "outputs": [],
   "source": [
    "'.cs' in whitelist"
   ]
  },
  {
   "cell_type": "code",
   "execution_count": null,
   "metadata": {
    "collapsed": true
   },
   "outputs": [],
   "source": [
    "dir_scanned_files = []\n",
    "recursiveLook(dir)"
   ]
  },
  {
   "cell_type": "code",
   "execution_count": null,
   "metadata": {},
   "outputs": [],
   "source": [
    "folder_count"
   ]
  },
  {
   "cell_type": "code",
   "execution_count": null,
   "metadata": {},
   "outputs": [],
   "source": [
    "len(dir_scanned_files)"
   ]
  },
  {
   "cell_type": "code",
   "execution_count": null,
   "metadata": {},
   "outputs": [],
   "source": [
    "dir"
   ]
  },
  {
   "cell_type": "code",
   "execution_count": null,
   "metadata": {},
   "outputs": [],
   "source": [
    "dir_scanned_files.index('D:\\spider_work\\modtracker-master@888c89070ee\\cet\\App_Code\\CSCode\\ConvertXls.cs')"
   ]
  },
  {
   "cell_type": "code",
   "execution_count": null,
   "metadata": {},
   "outputs": [],
   "source": [
    "dir_scanned_files[7]"
   ]
  },
  {
   "cell_type": "code",
   "execution_count": null,
   "metadata": {
    "collapsed": true
   },
   "outputs": [],
   "source": [
    "with open('.\\\\dir_scan.txt', 'w') as file:\n",
    "    for line in dir_scanned_files:\n",
    "        file.writelines(line + \"\\n\")"
   ]
  },
  {
   "cell_type": "code",
   "execution_count": null,
   "metadata": {
    "collapsed": true
   },
   "outputs": [],
   "source": [
    "fileName, fileExtension = os.path.splitext('/path/yourfile.ext')"
   ]
  },
  {
   "cell_type": "code",
   "execution_count": null,
   "metadata": {
    "collapsed": true
   },
   "outputs": [],
   "source": [
    "for d, folders, files in [f for f in walk(dir)]:\n",
    "    print(d)\n",
    "    print(folders)\n",
    "    print(files)"
   ]
  },
  {
   "cell_type": "code",
   "execution_count": null,
   "metadata": {
    "collapsed": true
   },
   "outputs": [],
   "source": [
    "test_file = dir_scanned_files[0]"
   ]
  },
  {
   "cell_type": "code",
   "execution_count": null,
   "metadata": {},
   "outputs": [],
   "source": []
  },
  {
   "cell_type": "code",
   "execution_count": null,
   "metadata": {
    "collapsed": true
   },
   "outputs": [],
   "source": []
  },
  {
   "cell_type": "code",
   "execution_count": null,
   "metadata": {},
   "outputs": [],
   "source": [
    "bag_of_words.index('<')"
   ]
  },
  {
   "cell_type": "code",
   "execution_count": null,
   "metadata": {
    "collapsed": true
   },
   "outputs": [],
   "source": [
    "X = np.zeros(len(bag_of_words))\n",
    "\n",
    "for key, value in result.items():\n",
    "    # find the index from bag of words\n",
    "    index = bag_of_words.index(key)    \n",
    "#     print(result[key], index)\n",
    "    X[index] = result[key]"
   ]
  },
  {
   "cell_type": "code",
   "execution_count": null,
   "metadata": {},
   "outputs": [],
   "source": [
    "X"
   ]
  },
  {
   "cell_type": "code",
   "execution_count": null,
   "metadata": {
    "collapsed": true
   },
   "outputs": [],
   "source": [
    "def process_file(filename):\n",
    "#     print(filename)\n",
    "    with open(filename, 'r') as file:\n",
    "        for line in file:\n",
    "            #print(file.readline())\n",
    "            # let's split the sentence\n",
    "\n",
    "            for t in [token for token in file.readline().split()]:\n",
    "                if t not in vocab:\n",
    "                    vocab[t] = 0\n",
    "                    bag_of_words.append(t)\n",
    "                vocab[t] += 1;"
   ]
  },
  {
   "cell_type": "code",
   "execution_count": null,
   "metadata": {},
   "outputs": [],
   "source": [
    "s"
   ]
  },
  {
   "cell_type": "code",
   "execution_count": null,
   "metadata": {},
   "outputs": [],
   "source": [
    "isinstance(s, str)"
   ]
  },
  {
   "cell_type": "code",
   "execution_count": null,
   "metadata": {
    "collapsed": true
   },
   "outputs": [],
   "source": [
    "bag_of_words = []\n",
    "\n",
    "def process_byte(filename):\n",
    "#     print(filename)\n",
    "    vocab = {}\n",
    "    with open(filename, 'r') as file:\n",
    "        for line in file:\n",
    "            #let's extract each byte\n",
    "#             print(line)\n",
    "            if isinstance(line, str):\n",
    "                for t in [ord(token) for token in line if token not in string.whitespace]:\n",
    "                    if 0 <= t <= 127:\n",
    "                        if chr(t) not in vocab:\n",
    "                            vocab[chr(t)] = 0\n",
    "                            bag_of_words.append(chr(t))\n",
    "                        vocab[chr(t)] += 1\n",
    "            else:\n",
    "                print('unicode')\n",
    "    return vocab"
   ]
  },
  {
   "cell_type": "code",
   "execution_count": null,
   "metadata": {
    "collapsed": true
   },
   "outputs": [],
   "source": [
    "\n"
   ]
  },
  {
   "cell_type": "code",
   "execution_count": null,
   "metadata": {
    "collapsed": true
   },
   "outputs": [],
   "source": [
    "def process_byte_backup(filename, debug):\n",
    "#     print(filename)\n",
    "    x = np.zeros(128)\n",
    "    with open(filename, 'r') as file:\n",
    "        try:\n",
    "            for line in file:\n",
    "                    for t in [ord(token) for token in line if token not in string.whitespace]:                \n",
    "                        if 0 <= t <= 127:\n",
    "                            x[t] += 1\n",
    "        except:\n",
    "                print(\"Error in: \" + filename)\n",
    "    #         if debug:\n",
    "    #             print(filename, line)\n",
    "            \n",
    "    return x"
   ]
  },
  {
   "cell_type": "code",
   "execution_count": null,
   "metadata": {
    "collapsed": true
   },
   "outputs": [],
   "source": [
    "import codecs\n",
    "def process_byte(filename, debug):\n",
    "#     print(filename)\n",
    "    x = np.zeros(128)\n",
    "    with codecs.open(dir_scanned_files[0], \"r\",encoding='utf-8', errors='ignore') as file:\n",
    "#         print(fdata.readlines())    \n",
    "        for line in file:\n",
    "#             print(line)\n",
    "            for t in [ord(token) for token in line if token not in string.whitespace]:                \n",
    "                if 0 <= t <= 127:\n",
    "                    x[t] += 1\n",
    "            \n",
    "    return x"
   ]
  },
  {
   "cell_type": "code",
   "execution_count": null,
   "metadata": {},
   "outputs": [],
   "source": [
    "test_file"
   ]
  },
  {
   "cell_type": "code",
   "execution_count": null,
   "metadata": {
    "collapsed": true
   },
   "outputs": [],
   "source": [
    "result = process_byte(test_file)"
   ]
  },
  {
   "cell_type": "code",
   "execution_count": null,
   "metadata": {},
   "outputs": [],
   "source": [
    "result.shape"
   ]
  },
  {
   "cell_type": "code",
   "execution_count": null,
   "metadata": {},
   "outputs": [],
   "source": [
    "import ntpath\n",
    "ntpath.basename(dir_scanned_files[3])"
   ]
  },
  {
   "cell_type": "code",
   "execution_count": null,
   "metadata": {},
   "outputs": [],
   "source": [
    "dir_scanned_files[:5]"
   ]
  },
  {
   "cell_type": "code",
   "execution_count": null,
   "metadata": {
    "collapsed": true
   },
   "outputs": [],
   "source": []
  },
  {
   "cell_type": "code",
   "execution_count": null,
   "metadata": {
    "collapsed": true
   },
   "outputs": [],
   "source": [
    "sd = {}\n",
    "if 'key' not in sd:\n",
    "    sd['key'] = []\n",
    "\n",
    "sd['key'].append('ok')\n",
    "    \n",
    "if 'key' not in sd:\n",
    "    sd['key'] = []\n",
    "\n",
    "sd['key'].append('yeah')"
   ]
  },
  {
   "cell_type": "code",
   "execution_count": null,
   "metadata": {},
   "outputs": [],
   "source": [
    "sd"
   ]
  },
  {
   "cell_type": "code",
   "execution_count": null,
   "metadata": {
    "scrolled": true
   },
   "outputs": [],
   "source": [
    "print(ntpath.basename(dir_scanned_files[3]))\n",
    "print(ntpath.dirname(dir_scanned_files[4]))"
   ]
  },
  {
   "cell_type": "code",
   "execution_count": null,
   "metadata": {
    "scrolled": true
   },
   "outputs": [],
   "source": [
    "dir_scanned_files[3]"
   ]
  },
  {
   "cell_type": "code",
   "execution_count": null,
   "metadata": {},
   "outputs": [],
   "source": [
    "X = []\n",
    "\n",
    "similarItemsToCheck = {}\n",
    "\n",
    "for item in [strItem for strItem in dir_scanned_files[:]]:\n",
    "    fname = (ntpath.basename(item))\n",
    "    path = (ntpath.dirname(item))\n",
    "    result = process_byte_backup(item, True)\n",
    "    if path not in similarItemsToCheck:\n",
    "#         print(path)\n",
    "        similarItemsToCheck[path] = []\n",
    "        \n",
    "    similarItemsToCheck[path].append((fname,result))\n",
    "    \n",
    "#     if currentDir != path:\n",
    "#         currentDir=path\n",
    "#         proc(item, fname)\n",
    "#     else:\n",
    "#         proc(item, fname)\n"
   ]
  },
  {
   "cell_type": "code",
   "execution_count": null,
   "metadata": {},
   "outputs": [],
   "source": [
    "dir_scanned_files[0]"
   ]
  },
  {
   "cell_type": "code",
   "execution_count": null,
   "metadata": {},
   "outputs": [],
   "source": [
    "similarItemsToCheck"
   ]
  },
  {
   "cell_type": "code",
   "execution_count": null,
   "metadata": {},
   "outputs": [],
   "source": [
    "dir_scanned_files[:10]"
   ]
  },
  {
   "cell_type": "code",
   "execution_count": null,
   "metadata": {},
   "outputs": [],
   "source": [
    "for key, arr in similarItemsToCheck.items():\n",
    "#     print(key, len(arr))\n",
    "\n",
    "    for i in range(0, len(arr)):\n",
    "        for j in range(0, len(arr)):\n",
    "            a = (arr[i][1])\n",
    "            b = (arr[j][1])\n",
    "            cosine_similarity = np.dot(a, b) / (LA.norm(a) * LA.norm(b))\n",
    "            if i != j:\n",
    "                if(cosine_similarity > 0.99):\n",
    "                    print(key, arr[i][0], arr[j][0], cosine_similarity)"
   ]
  },
  {
   "cell_type": "code",
   "execution_count": null,
   "metadata": {
    "collapsed": true
   },
   "outputs": [],
   "source": [
    "x =  np.arange(1, 10).reshape(3,3)"
   ]
  },
  {
   "cell_type": "code",
   "execution_count": null,
   "metadata": {},
   "outputs": [],
   "source": [
    "LA.norm(similarItemsToCheck['D:\\spider_work\\modtracker-master@888c89070ee\\cet'][0][1])"
   ]
  },
  {
   "cell_type": "code",
   "execution_count": null,
   "metadata": {},
   "outputs": [],
   "source": [
    "x"
   ]
  },
  {
   "cell_type": "code",
   "execution_count": null,
   "metadata": {
    "collapsed": true
   },
   "outputs": [],
   "source": [
    "a = x[0]\n",
    "b = x[1]\n",
    "c = x[2]\n",
    "\n"
   ]
  },
  {
   "cell_type": "code",
   "execution_count": null,
   "metadata": {},
   "outputs": [],
   "source": [
    "for i in range(0, 3):\n",
    "    for j in range(0, 3):\n",
    "        print(np.dot(x[i], x[j])   / LA.norm(x[i] * LA.norm(x[j])) )"
   ]
  },
  {
   "cell_type": "code",
   "execution_count": null,
   "metadata": {
    "collapsed": true
   },
   "outputs": [],
   "source": [
    "from scipy.interpolate import interp1d\n",
    "m = interp1d([-1,1],[0,1])"
   ]
  },
  {
   "cell_type": "code",
   "execution_count": null,
   "metadata": {},
   "outputs": [],
   "source": [
    "x[0]"
   ]
  },
  {
   "cell_type": "code",
   "execution_count": null,
   "metadata": {},
   "outputs": [],
   "source": [
    "m(.97)"
   ]
  },
  {
   "cell_type": "code",
   "execution_count": null,
   "metadata": {
    "scrolled": true
   },
   "outputs": [],
   "source": [
    "np.dot(x[2], x[2]) / LA.norm(x[2] * LA.norm(x[2]))"
   ]
  },
  {
   "cell_type": "code",
   "execution_count": null,
   "metadata": {
    "collapsed": true
   },
   "outputs": [],
   "source": [
    "from numpy import linalg as LA"
   ]
  },
  {
   "cell_type": "code",
   "execution_count": null,
   "metadata": {},
   "outputs": [],
   "source": [
    "LA.norm(x[0])"
   ]
  },
  {
   "cell_type": "code",
   "execution_count": null,
   "metadata": {},
   "outputs": [],
   "source": [
    "LA.norm(x)"
   ]
  },
  {
   "cell_type": "code",
   "execution_count": null,
   "metadata": {},
   "outputs": [],
   "source": [
    "x * x.T"
   ]
  },
  {
   "cell_type": "code",
   "execution_count": null,
   "metadata": {
    "collapsed": true
   },
   "outputs": [],
   "source": [
    "a = np.array([[1,2,3],[4,5,6],[6,7,]])"
   ]
  },
  {
   "cell_type": "code",
   "execution_count": null,
   "metadata": {},
   "outputs": [],
   "source": [
    "a"
   ]
  },
  {
   "cell_type": "code",
   "execution_count": null,
   "metadata": {},
   "outputs": [],
   "source": [
    "from sklearn.metrics.pairwise import cosine_similarity\n",
    "cosine_similarity(x, x)"
   ]
  },
  {
   "cell_type": "code",
   "execution_count": null,
   "metadata": {
    "collapsed": true
   },
   "outputs": [],
   "source": [
    "Xs = np.array(X)"
   ]
  },
  {
   "cell_type": "code",
   "execution_count": null,
   "metadata": {},
   "outputs": [],
   "source": [
    "Xs.shape"
   ]
  },
  {
   "cell_type": "code",
   "execution_count": null,
   "metadata": {
    "collapsed": true
   },
   "outputs": [],
   "source": []
  },
  {
   "cell_type": "markdown",
   "metadata": {},
   "source": [
    "## Good reference for sql injection attack mitigation\n",
    "\n",
    "https://blogs.msdn.microsoft.com/sqlphp/2008/09/30/how-and-why-to-use-parameterized-queries/"
   ]
  },
  {
   "cell_type": "code",
   "execution_count": null,
   "metadata": {
    "collapsed": true
   },
   "outputs": [],
   "source": [
    "s=\"hello world\""
   ]
  },
  {
   "cell_type": "code",
   "execution_count": null,
   "metadata": {},
   "outputs": [],
   "source": [
    "ord(s[0])"
   ]
  },
  {
   "cell_type": "code",
   "execution_count": null,
   "metadata": {
    "collapsed": true
   },
   "outputs": [],
   "source": []
  }
 ],
 "metadata": {
  "kernelspec": {
   "display_name": "Python 3",
   "language": "python",
   "name": "python3"
  },
  "language_info": {
   "codemirror_mode": {
    "name": "ipython",
    "version": 3
   },
   "file_extension": ".py",
   "mimetype": "text/x-python",
   "name": "python",
   "nbconvert_exporter": "python",
   "pygments_lexer": "ipython3",
   "version": "3.6.2"
  }
 },
 "nbformat": 4,
 "nbformat_minor": 2
}
