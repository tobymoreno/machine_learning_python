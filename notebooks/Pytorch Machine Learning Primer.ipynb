{
 "cells": [
  {
   "cell_type": "code",
   "execution_count": 1,
   "metadata": {
    "collapsed": true
   },
   "outputs": [],
   "source": [
    "import numpy as np\n",
    "import matplotlib.pyplot as plt"
   ]
  },
  {
   "cell_type": "code",
   "execution_count": 4,
   "metadata": {},
   "outputs": [
    {
     "data": {
      "text/plain": [
       "4.0"
      ]
     },
     "execution_count": 4,
     "metadata": {},
     "output_type": "execute_result"
    }
   ],
   "source": [
    "w = 1.0 # a random guess\n",
    "\n",
    "def forward(x):\n",
    "    return x * w\n",
    "\n",
    "def loss(x, y):\n",
    "    y_pred = forward(x)\n",
    "    return (y_pred - y) * (y_pred - y)\n",
    "\n",
    "\n",
    "loss(3, 5)"
   ]
  },
  {
   "cell_type": "code",
   "execution_count": 21,
   "metadata": {
    "collapsed": true
   },
   "outputs": [],
   "source": [
    "x = [1.0, 2.0, 3.0]\n",
    "y = [2.0, 4.0, 6.0]\n",
    "\n",
    "w_list = []\n",
    "mse_list = []\n",
    "\n",
    "for w in np.arange(0, 4.1, 0.1):\n",
    "    #print(w)\n",
    "    total_loss = 0\n",
    "    \n",
    "    for x_val, y_val in zip(x, y):\n",
    "#         print(x_val, y_val)\n",
    "        y_pred = forward(x_val)\n",
    "        l = loss(x_val, y_val)\n",
    "        total_loss += l\n",
    "        \n",
    "    w_list.append(w)\n",
    "    mse_list.append(total_loss / len(x))"
   ]
  },
  {
   "cell_type": "code",
   "execution_count": 25,
   "metadata": {},
   "outputs": [
    {
     "data": {
      "image/png": "[encoded data removed]",
      "text/plain": [
       "<matplotlib.figure.Figure at 0x1e5de67f630>"
      ]
     },
     "metadata": {},
     "output_type": "display_data"
    }
   ],
   "source": [
    "plt.plot(w_list, mse_list)\n",
    "plt.ylabel(\"Loss\")\n",
    "plt.xlabel(\"Weight\")\n",
    "plt.show()"
   ]
  },
  {
   "cell_type": "markdown",
   "metadata": {
    "collapsed": true
   },
   "source": [
    "$$d_loss/dw = 2x(xw - y) $$"
   ]
  },
  {
   "cell_type": "code",
   "execution_count": 29,
   "metadata": {
    "collapsed": true
   },
   "outputs": [],
   "source": [
    " def gradient(x, y):\n",
    "    return 2 * x * (x * w - y)"
   ]
  },
  {
   "cell_type": "code",
   "execution_count": 28,
   "metadata": {},
   "outputs": [
    {
     "data": {
      "text/plain": [
       "4.0"
      ]
     },
     "execution_count": 28,
     "metadata": {},
     "output_type": "execute_result"
    }
   ],
   "source": [
    "gradient(1.0, 2.0)"
   ]
  },
  {
   "cell_type": "code",
   "execution_count": 52,
   "metadata": {},
   "outputs": [
    {
     "name": "stdout",
     "output_type": "stream",
     "text": [
      "predict (before training) 4 4.0\n",
      "epoch :  0 1.260688 4.919240100095999\n",
      "epoch :  10 1.9639333911678687 0.01170720245384975\n",
      "epoch :  20 1.998240525958391 2.7861740127856012e-05\n",
      "epoch :  30 1.9999141657892625 6.630760559646474e-08\n",
      "epoch :  40 1.9999958126624442 1.5780416225633037e-10\n",
      "epoch :  50 1.9999997957248556 3.7555501141274804e-13\n",
      "epoch :  60 1.999999990034638 8.937759877335403e-16\n",
      "epoch :  70 1.9999999995138495 2.1270797208746147e-18\n",
      "epoch :  80 1.9999999999762834 5.062350511130293e-21\n",
      "epoch :  90 1.9999999999988431 1.2047849775995315e-23\n",
      "predict (after training) 4 7.9999999999996945\n"
     ]
    }
   ],
   "source": [
    "x = [1.0, 2.0, 3.0]\n",
    "y = [2.0, 4.0, 6.0]\n",
    "\n",
    "w = 1.0\n",
    "learning_rate = 0.01\n",
    "\n",
    "print(\"predict (before training)\", 4, forward(4))\n",
    "\n",
    "for epoch in range(100):\n",
    "    for x_val, y_val in zip(x, y):\n",
    "        y_pred = forward(x_val)\n",
    "        grad = gradient(x_val, y_val)\n",
    "        w = w - (learning_rate * grad)\n",
    "        l = loss(x_val, y_val)\n",
    "        \n",
    "    if epoch % 10 == 0:\n",
    "        print(\"epoch : \", epoch, w, l)\n",
    "\n",
    "print(\"predict (after training)\", 4, forward(4))"
   ]
  },
  {
   "cell_type": "code",
   "execution_count": 51,
   "metadata": {},
   "outputs": [
    {
     "data": {
      "text/plain": [
       "7.9999999999996945"
      ]
     },
     "execution_count": 51,
     "metadata": {},
     "output_type": "execute_result"
    }
   ],
   "source": [
    "forward(4)"
   ]
  },
  {
   "cell_type": "code",
   "execution_count": 54,
   "metadata": {
    "collapsed": true
   },
   "outputs": [],
   "source": [
    "import torch\n",
    "from torch.autograd import Variable"
   ]
  },
  {
   "cell_type": "code",
   "execution_count": 55,
   "metadata": {
    "collapsed": true
   },
   "outputs": [],
   "source": [
    "x_data = [1.0, 2.0, 3.0]\n",
    "y_data = [2.0, 4.0, 6.0]"
   ]
  },
  {
   "cell_type": "code",
   "execution_count": 56,
   "metadata": {
    "collapsed": true
   },
   "outputs": [],
   "source": [
    "w = Variable(torch.Tensor([1.0]), requires_grad=True)"
   ]
  },
  {
   "cell_type": "code",
   "execution_count": 58,
   "metadata": {},
   "outputs": [
    {
     "data": {
      "text/plain": [
       "<function __main__.loss>"
      ]
     },
     "execution_count": 58,
     "metadata": {},
     "output_type": "execute_result"
    }
   ],
   "source": []
  },
  {
   "cell_type": "code",
   "execution_count": 59,
   "metadata": {},
   "outputs": [
    {
     "data": {
      "text/plain": [
       "4.0"
      ]
     },
     "execution_count": 59,
     "metadata": {},
     "output_type": "execute_result"
    }
   ],
   "source": [
    "w = 1.0 # a random guess\n",
    "\n",
    "def forward(x):\n",
    "    return x * w\n",
    "\n",
    "def loss(x, y):\n",
    "    y_pred = forward(x)\n",
    "    return (y_pred - y) * (y_pred - y)\n",
    "\n",
    "\n",
    "loss(3, 5)"
   ]
  },
  {
   "cell_type": "code",
   "execution_count": 61,
   "metadata": {},
   "outputs": [
    {
     "data": {
      "text/plain": [
       "[1.0, 2.0, 3.0]"
      ]
     },
     "execution_count": 61,
     "metadata": {},
     "output_type": "execute_result"
    }
   ],
   "source": [
    "x_data"
   ]
  },
  {
   "cell_type": "code",
   "execution_count": 60,
   "metadata": {},
   "outputs": [
    {
     "ename": "AttributeError",
     "evalue": "'float' object has no attribute 'data'",
     "output_type": "error",
     "traceback": [
      "\u001b[1;31m---------------------------------------------------------------------------\u001b[0m",
      "\u001b[1;31mAttributeError\u001b[0m                            Traceback (most recent call last)",
      "\u001b[1;32m<ipython-input-60-44aafa8faa07>\u001b[0m in \u001b[0;36m<module>\u001b[1;34m()\u001b[0m\n\u001b[0;32m      1\u001b[0m \u001b[1;31m# Before training\u001b[0m\u001b[1;33m\u001b[0m\u001b[1;33m\u001b[0m\u001b[0m\n\u001b[1;32m----> 2\u001b[1;33m \u001b[0mprint\u001b[0m\u001b[1;33m(\u001b[0m\u001b[1;34m\"predict (before training)\"\u001b[0m\u001b[1;33m,\u001b[0m  \u001b[1;36m4\u001b[0m\u001b[1;33m,\u001b[0m \u001b[0mforward\u001b[0m\u001b[1;33m(\u001b[0m\u001b[1;36m4\u001b[0m\u001b[1;33m)\u001b[0m\u001b[1;33m.\u001b[0m\u001b[0mdata\u001b[0m\u001b[1;33m[\u001b[0m\u001b[1;36m0\u001b[0m\u001b[1;33m]\u001b[0m\u001b[1;33m)\u001b[0m\u001b[1;33m\u001b[0m\u001b[0m\n\u001b[0m\u001b[0;32m      3\u001b[0m \u001b[1;33m\u001b[0m\u001b[0m\n\u001b[0;32m      4\u001b[0m \u001b[1;31m# Training loop\u001b[0m\u001b[1;33m\u001b[0m\u001b[1;33m\u001b[0m\u001b[0m\n\u001b[0;32m      5\u001b[0m \u001b[1;32mfor\u001b[0m \u001b[0mepoch\u001b[0m \u001b[1;32min\u001b[0m \u001b[0mrange\u001b[0m\u001b[1;33m(\u001b[0m\u001b[1;36m10\u001b[0m\u001b[1;33m)\u001b[0m\u001b[1;33m:\u001b[0m\u001b[1;33m\u001b[0m\u001b[0m\n",
      "\u001b[1;31mAttributeError\u001b[0m: 'float' object has no attribute 'data'"
     ]
    }
   ],
   "source": [
    "# Before training\n",
    "print(\"predict (before training)\",  4, forward(4).data[0])\n",
    "\n",
    "# Training loop\n",
    "for epoch in range(10):\n",
    "    for x_val, y_val in zip(x_data, y_data):\n",
    "        l = loss(x_val, y_val)\n",
    "        l.backward()\n",
    "        print(\"\\tgrad: \", x_val, y_val, w.grad.data[0])\n",
    "        w.data = w.data - 0.01 * w.grad.data\n",
    "\n",
    "        # Manually zero the gradients after updating weights\n",
    "        w.grad.data.zero_()\n",
    "\n",
    "    print(\"progress:\", epoch, l.data[0])\n",
    "\n",
    "# After training\n",
    "print(\"predict (after training)\",  4, forward(4).data[0])"
   ]
  },
  {
   "cell_type": "code",
   "execution_count": 73,
   "metadata": {},
   "outputs": [
    {
     "name": "stdout",
     "output_type": "stream",
     "text": [
      "predict (before training) 4 tensor(4.)\n",
      "progress: 0 tensor(7.3159)\n",
      "progress: 10 tensor(0.0174)\n",
      "progress: 20 tensor(4.1433e-05)\n",
      "progress: 30 tensor(9.8744e-08)\n",
      "progress: 40 tensor(2.3283e-10)\n",
      "progress: 50 tensor(9.0949e-13)\n",
      "progress: 60 tensor(9.0949e-13)\n",
      "progress: 70 tensor(9.0949e-13)\n",
      "progress: 80 tensor(9.0949e-13)\n",
      "progress: 90 tensor(9.0949e-13)\n",
      "predict (after training) 4 tensor(8.0000)\n"
     ]
    }
   ],
   "source": [
    "import torch\n",
    "from torch.autograd import Variable\n",
    "\n",
    "x_data = [1.0, 2.0, 3.0]\n",
    "y_data = [2.0, 4.0, 6.0]\n",
    "\n",
    "w = Variable(torch.Tensor([1.0]),  requires_grad=True)  # Any random value\n",
    "\n",
    "# our model forward pass\n",
    "\n",
    "def forward(x):\n",
    "    return x * w\n",
    "\n",
    "# Loss function\n",
    "\n",
    "\n",
    "def loss(x, y):\n",
    "    y_pred = forward(x)\n",
    "    return (y_pred - y) * (y_pred - y)\n",
    "\n",
    "# Before training\n",
    "print(\"predict (before training)\",  4, forward(4).data[0])\n",
    "\n",
    "# Training loop\n",
    "for epoch in range(100):\n",
    "    for x_val, y_val in zip(x_data, y_data):\n",
    "        l = loss(x_val, y_val)\n",
    "        l.backward()\n",
    "#         print(\"\\tgrad: \", x_val, y_val, w.grad.data[0])\n",
    "        w.data = w.data - 0.01 * w.grad.data\n",
    "\n",
    "        # Manually zero the gradients after updating weights\n",
    "        w.grad.data.zero_()\n",
    "    if epoch % 10 == 0:\n",
    "        print(\"progress:\", epoch, l.data[0])\n",
    "\n",
    "# After training\n",
    "print(\"predict (after training)\",  4, forward(4).data[0])"
   ]
  },
  {
   "cell_type": "markdown",
   "metadata": {},
   "source": [
    "## Let's do a linear regression using Pytorch all the way"
   ]
  },
  {
   "cell_type": "code",
   "execution_count": 220,
   "metadata": {
    "collapsed": true
   },
   "outputs": [],
   "source": [
    "x_data = Variable(torch.Tensor([[1.0], [2.0], [3.0]]))\n",
    "y_data = Variable(torch.Tensor([[2.0], [4.0], [6.0]]))"
   ]
  },
  {
   "cell_type": "code",
   "execution_count": 221,
   "metadata": {
    "collapsed": true
   },
   "outputs": [],
   "source": [
    "class Model(torch.nn.Module):\n",
    "    def __init__(self):\n",
    "        super(Model, self).__init__()\n",
    "        self.linear = torch.nn.Linear(1, 1)\n",
    "    \n",
    "    def forward(self, x):\n",
    "        return self.linear(x)"
   ]
  },
  {
   "cell_type": "code",
   "execution_count": 222,
   "metadata": {
    "collapsed": true
   },
   "outputs": [],
   "source": [
    "# initialize the model\n",
    "model = Model()"
   ]
  },
  {
   "cell_type": "code",
   "execution_count": 223,
   "metadata": {
    "collapsed": true
   },
   "outputs": [],
   "source": [
    "# create optimizer and loss functions\n",
    "optimizer = torch.optim.SGD(model.parameters(), lr=0.01)\n",
    "criterion = torch.nn.modules.loss.MSELoss()"
   ]
  },
  {
   "cell_type": "code",
   "execution_count": 224,
   "metadata": {
    "collapsed": true
   },
   "outputs": [],
   "source": [
    "for epoch in range(500):\n",
    "    y_pred = model(x_data)\n",
    "    loss = criterion(y_pred, y_data)\n",
    "\n",
    "    optimizer.zero_grad()\n",
    "    loss.backward()\n",
    "    optimizer.step()"
   ]
  },
  {
   "cell_type": "code",
   "execution_count": 225,
   "metadata": {},
   "outputs": [
    {
     "data": {
      "text/plain": [
       "7.9184465408325195"
      ]
     },
     "execution_count": 225,
     "metadata": {},
     "output_type": "execute_result"
    }
   ],
   "source": [
    "new_x = Variable(torch.Tensor([4.0]))\n",
    "new_y = model(new_x)\n",
    "new_y.item()"
   ]
  },
  {
   "cell_type": "code",
   "execution_count": null,
   "metadata": {
    "collapsed": true
   },
   "outputs": [],
   "source": []
  },
  {
   "cell_type": "markdown",
   "metadata": {},
   "source": [
    "## Let's do Logistics Regression Now"
   ]
  },
  {
   "cell_type": "code",
   "execution_count": 259,
   "metadata": {
    "collapsed": true
   },
   "outputs": [],
   "source": [
    "x_data = Variable(torch.Tensor([[1.0],[2.0],[3.0],[4.0]]))\n",
    "y_data = Variable(torch.Tensor([[0.], [0.], [1.], [1.]]))"
   ]
  },
  {
   "cell_type": "code",
   "execution_count": 260,
   "metadata": {},
   "outputs": [
    {
     "data": {
      "text/plain": [
       "(torch.Size([4, 1]), torch.Size([4, 1]))"
      ]
     },
     "execution_count": 260,
     "metadata": {},
     "output_type": "execute_result"
    }
   ],
   "source": [
    "x_data.shape, y_data.shape"
   ]
  },
  {
   "cell_type": "code",
   "execution_count": 268,
   "metadata": {
    "collapsed": true
   },
   "outputs": [],
   "source": [
    "class Model(torch.nn.Module):\n",
    "    def __init__(self):\n",
    "        super(Model, self).__init__()\n",
    "        self.linear = torch.nn.Linear(1, 1)\n",
    "    \n",
    "    def forward(self, x):\n",
    "        return torch.sigmoid(self.linear(x))\n",
    "        \n",
    "        \n",
    "model = Model()\n",
    "\n",
    "optimizer = torch.optim.SGD(model.parameters(), lr=0.01)\n",
    "criterion = torch.nn.modules.loss.BCELoss(reduction='mean')\n"
   ]
  },
  {
   "cell_type": "code",
   "execution_count": 269,
   "metadata": {},
   "outputs": [
    {
     "data": {
      "text/plain": [
       "(None, tensor([[0.],\n",
       "         [0.],\n",
       "         [1.],\n",
       "         [1.]]))"
      ]
     },
     "execution_count": 269,
     "metadata": {},
     "output_type": "execute_result"
    }
   ],
   "source": [
    "y_pred, y_data"
   ]
  },
  {
   "cell_type": "code",
   "execution_count": 271,
   "metadata": {},
   "outputs": [
    {
     "data": {
      "text/plain": [
       "tensor([[0.7593],\n",
       "        [0.8782],\n",
       "        [0.9428],\n",
       "        [0.9742]], grad_fn=<SigmoidBackward>)"
      ]
     },
     "execution_count": 271,
     "metadata": {},
     "output_type": "execute_result"
    }
   ],
   "source": [
    "model(x_data)"
   ]
  },
  {
   "cell_type": "code",
   "execution_count": 296,
   "metadata": {},
   "outputs": [
    {
     "name": "stdout",
     "output_type": "stream",
     "text": [
      "epoch 0 loss 0.4487362504005432\n",
      "epoch 50 loss 0.44215553998947144\n",
      "epoch 100 loss 0.43578028678894043\n",
      "epoch 150 loss 0.4296022951602936\n",
      "epoch 200 loss 0.4236137568950653\n",
      "epoch 250 loss 0.41780686378479004\n",
      "epoch 300 loss 0.41217461228370667\n",
      "epoch 350 loss 0.4067099690437317\n",
      "epoch 400 loss 0.4014062285423279\n",
      "epoch 450 loss 0.3962570130825043\n"
     ]
    }
   ],
   "source": [
    "for epoch in range(500):\n",
    "    # makde a prediction / forward pass\n",
    "    y_pred = model(x_data)\n",
    "\n",
    "    # capture loss and optimize\n",
    "\n",
    "    optimizer.zero_grad()\n",
    "    loss = criterion(y_pred, y_data)\n",
    "\n",
    "    # calculate gradient descent and propagate backwards\n",
    "    loss.backward()\n",
    "\n",
    "    # update weights\n",
    "    optimizer.step()\n",
    "    \n",
    "    # print statistics\n",
    "    if epoch % 50 == 0:\n",
    "        print(\"epoch\", epoch, \"loss\", loss.item())"
   ]
  },
  {
   "cell_type": "code",
   "execution_count": 298,
   "metadata": {},
   "outputs": [
    {
     "name": "stdout",
     "output_type": "stream",
     "text": [
      "0.3011246621608734 tensor([0], dtype=torch.uint8)\n",
      "0.9990750551223755 tensor([1], dtype=torch.uint8)\n"
     ]
    }
   ],
   "source": [
    "# make a new prediction\n",
    "\n",
    "new_x = Variable(torch.Tensor([1.0]))\n",
    "new_y = model(new_x)\n",
    "\n",
    "print(new_y.data.item(), new_y > 0.5)\n",
    "\n",
    "new_x = Variable(torch.Tensor([10.0]))\n",
    "new_y = model(new_x)\n",
    "\n",
    "print(new_y.data.item(), new_y > 0.5)"
   ]
  },
  {
   "cell_type": "markdown",
   "metadata": {},
   "source": [
    "## Let's do Diabetes Classification\n",
    "# get the diabetes.csv data"
   ]
  },
  {
   "cell_type": "code",
   "execution_count": 300,
   "metadata": {},
   "outputs": [
    {
     "data": {
      "text/plain": [
       "'D:\\\\spider_work'"
      ]
     },
     "execution_count": 300,
     "metadata": {},
     "output_type": "execute_result"
    }
   ],
   "source": [
    "pwd"
   ]
  },
  {
   "cell_type": "code",
   "execution_count": 303,
   "metadata": {},
   "outputs": [
    {
     "name": "stdout",
     "output_type": "stream",
     "text": [
      " Volume in drive D is Local Disk\n",
      " Volume Serial Number is 927D-F5DC\n",
      "\n",
      " Directory of D:\\spider_work\\data\n",
      "\n",
      "03/15/2019  11:01 AM    <DIR>          .\n",
      "03/15/2019  11:01 AM    <DIR>          ..\n",
      "03/14/2019  04:28 PM            13,539 diabetes.csv.gz\n",
      "               1 File(s)         13,539 bytes\n",
      "               2 Dir(s)  774,522,019,840 bytes free\n"
     ]
    }
   ],
   "source": [
    "ls data"
   ]
  },
  {
   "cell_type": "code",
   "execution_count": 32,
   "metadata": {
    "collapsed": true
   },
   "outputs": [],
   "source": [
    "xy = np.loadtxt('data/diabetes.csv', delimiter=',',dtype=np.float32)"
   ]
  },
  {
   "cell_type": "code",
   "execution_count": 389,
   "metadata": {},
   "outputs": [
    {
     "data": {
      "text/plain": [
       "607"
      ]
     },
     "execution_count": 389,
     "metadata": {},
     "output_type": "execute_result"
    }
   ],
   "source": [
    "int(759 * .8)"
   ]
  },
  {
   "cell_type": "code",
   "execution_count": 314,
   "metadata": {
    "collapsed": true
   },
   "outputs": [],
   "source": [
    "x_data = Variable(torch.from_numpy(xy[:,0:-1]))"
   ]
  },
  {
   "cell_type": "code",
   "execution_count": 316,
   "metadata": {
    "collapsed": true
   },
   "outputs": [],
   "source": [
    "y_data = Variable(torch.from_numpy(xy[:,[-1]]))"
   ]
  },
  {
   "cell_type": "code",
   "execution_count": 318,
   "metadata": {},
   "outputs": [
    {
     "data": {
      "text/plain": [
       "(torch.Size([759, 8]), torch.Size([759, 1]))"
      ]
     },
     "execution_count": 318,
     "metadata": {},
     "output_type": "execute_result"
    }
   ],
   "source": [
    "x_data.shape, y_data.shape"
   ]
  },
  {
   "cell_type": "code",
   "execution_count": 33,
   "metadata": {
    "collapsed": true
   },
   "outputs": [],
   "source": [
    "x_train = Variable(torch.from_numpy(xy[:int(759 * .8),0:-1]))\n",
    "y_train = Variable(torch.from_numpy(xy[:int(759 * .8),[-1]]))"
   ]
  },
  {
   "cell_type": "code",
   "execution_count": 466,
   "metadata": {},
   "outputs": [
    {
     "data": {
      "text/plain": [
       "(torch.Size([607, 8]), torch.Size([607, 1]))"
      ]
     },
     "execution_count": 466,
     "metadata": {},
     "output_type": "execute_result"
    }
   ],
   "source": [
    "x_train.shape, y_train.shape"
   ]
  },
  {
   "cell_type": "code",
   "execution_count": null,
   "metadata": {
    "collapsed": true
   },
   "outputs": [],
   "source": []
  },
  {
   "cell_type": "code",
   "execution_count": 6,
   "metadata": {
    "collapsed": true
   },
   "outputs": [],
   "source": [
    "import torch\n",
    "import numpy as np\n",
    "from torch.autograd import Variable\n",
    "from torch.utils.data import Dataset, DataLoader"
   ]
  },
  {
   "cell_type": "code",
   "execution_count": 34,
   "metadata": {
    "collapsed": true
   },
   "outputs": [],
   "source": [
    "x_val = Variable(torch.from_numpy(xy[x_train.shape[0]:-1,0:-1]))\n",
    "y_val = Variable(torch.from_numpy(xy[y_train.shape[0]:-1,[-1]]))"
   ]
  },
  {
   "cell_type": "code",
   "execution_count": 39,
   "metadata": {
    "collapsed": true
   },
   "outputs": [],
   "source": [
    "class Model(torch.nn.Module):\n",
    "    def __init__(self):\n",
    "        super(Model, self).__init__()\n",
    "        self.linear1 = torch.nn.Linear(8, 6)\n",
    "        self.linear2 = torch.nn.Linear(6, 4)\n",
    "        self.linear3 = torch.nn.Linear(4, 1)\n",
    "        \n",
    "        self.sigmoid = torch.sigmoid\n",
    "        \n",
    "    def forward(self, x):\n",
    "        x = self.sigmoid(self.linear1(x))\n",
    "        x = self.sigmoid(self.linear2(x))\n",
    "        y_pred = self.sigmoid(self.linear3(x))\n",
    "        return y_pred\n",
    "    \n",
    "model = Model()\n",
    "\n"
   ]
  },
  {
   "cell_type": "code",
   "execution_count": 40,
   "metadata": {},
   "outputs": [
    {
     "name": "stdout",
     "output_type": "stream",
     "text": [
      "0.6498209238052368\n",
      "0.5444836020469666\n",
      "0.5444834232330322\n",
      "0.5444833040237427\n",
      "0.5444833636283875\n",
      "0.5444831252098083\n",
      "0.5444830060005188\n",
      "0.544482946395874\n",
      "0.544482946395874\n",
      "0.5444828271865845\n"
     ]
    }
   ],
   "source": [
    "for epoch in range(500):\n",
    "    y_pred = model(x_train)\n",
    "\n",
    "    # let's build the optimizer and loss function\n",
    "\n",
    "    #optimizer = torch.optim.SGD(model.parameters(), lr=0.2)\n",
    "    optimizer = torch.optim.Adagrad(model.parameters(), lr=0.1)\n",
    "    criterion = torch.nn.modules.loss.BCELoss(reduction='mean')\n",
    "\n",
    "\n",
    "\n",
    "    # let's calculate the loss\n",
    "    \n",
    "    loss = criterion(y_pred, y_train)\n",
    "    \n",
    "        # let's initialize the gradient\n",
    "    optimizer.zero_grad()\n",
    "\n",
    "    loss.backward()\n",
    "    optimizer.step()\n",
    "\n",
    "    # print loss\n",
    "    if epoch % 50 == 0:\n",
    "        print(loss.data.item())"
   ]
  },
  {
   "cell_type": "code",
   "execution_count": 48,
   "metadata": {},
   "outputs": [
    {
     "name": "stdout",
     "output_type": "stream",
     "text": [
      "accuracy:  0.46357615894039733\n"
     ]
    }
   ],
   "source": [
    "num_correct = 0\n",
    "new_y = model(x_val)\n",
    "for i in range(new_y.shape[0]):\n",
    "    if (new_y[i] > 0.5).item() == y_train[i].item():\n",
    "        num_correct += 1\n",
    "        #print ((new_y[i] > 0.5).item(), y_train[i].item())\n",
    "        \n",
    "print(\"accuracy: \", num_correct/ new_y.shape[0])"
   ]
  },
  {
   "cell_type": "markdown",
   "metadata": {},
   "source": [
    "## Let's do a DatasetLoader"
   ]
  },
  {
   "cell_type": "code",
   "execution_count": 7,
   "metadata": {},
   "outputs": [],
   "source": [
    "class DiabetesDataset(Dataset):\n",
    "    def __init__(self):\n",
    "        super(DiabetesDataset, self)\n",
    "        xy = np.loadtxt('data/diabetes.csv', delimiter=',',dtype=np.float32)\n",
    "        self.len = xy.shape[0]\n",
    "        self.x_data = Variable(torch.Tensor(xy[:, 0 : -1]))\n",
    "        self.y_data = Variable(torch.Tensor(xy[:, [-1]]))\n",
    "        \n",
    "    def __getitem__(self, index):\n",
    "        return self.x_data[index], self.y_data[index]\n",
    "    \n",
    "    def __len__(self):\n",
    "        return self.len"
   ]
  },
  {
   "cell_type": "code",
   "execution_count": 8,
   "metadata": {},
   "outputs": [],
   "source": [
    "dataset = DiabetesDataset()\n",
    "train_loader = DataLoader(dataset=dataset, batch_size=32, shuffle=True)\n"
   ]
  },
  {
   "cell_type": "code",
   "execution_count": 41,
   "metadata": {
    "collapsed": true
   },
   "outputs": [],
   "source": [
    "# optimizer = torch.optim.SGD(model.parameters(), lr=0.2)\n",
    "optimizer = torch.optim.Adagrad(model.parameters(), lr=0.1)\n",
    "criterion = torch.nn.modules.loss.BCELoss(reduction='mean')"
   ]
  },
  {
   "cell_type": "code",
   "execution_count": 46,
   "metadata": {
    "collapsed": true
   },
   "outputs": [
    {
     "name": "stdout",
     "output_type": "stream",
     "text": [
      "0 0.4729618728160858\n",
      "20 0.4221133589744568\n",
      "0 0.49943670630455017\n",
      "20 0.525838315486908\n",
      "0 0.3916226625442505\n",
      "20 0.47642916440963745\n",
      "0 0.31007587909698486\n",
      "20 0.4784518778324127\n",
      "0 0.48001280426979065\n",
      "20 0.5567070841789246\n",
      "0 0.5043805837631226\n",
      "20 0.36243605613708496\n",
      "0 0.4349493384361267\n",
      "20 0.5819852948188782\n",
      "0 0.35351690649986267\n",
      "20 0.5065621137619019\n",
      "0 0.39435866475105286\n",
      "20 0.510428786277771\n",
      "0 0.641165018081665\n",
      "20 0.5962497591972351\n",
      "0 0.5090996623039246\n",
      "20 0.6387606859207153\n",
      "0 0.453039288520813\n",
      "20 0.3863893449306488\n",
      "0 0.5939332246780396\n",
      "20 0.4192889630794525\n",
      "0 0.5293391346931458\n",
      "20 0.536784291267395\n",
      "0 0.3898825943470001\n",
      "20 0.398797869682312\n",
      "0 0.4395953118801117\n",
      "20 0.5422508716583252\n",
      "0 0.40471842885017395\n",
      "20 0.42681965231895447\n",
      "0 0.4740414321422577\n",
      "20 0.561590850353241\n",
      "0 0.5227285623550415\n",
      "20 0.5449935793876648\n",
      "0 0.530718982219696\n",
      "20 0.5605756640434265\n",
      "0 0.5233448147773743\n",
      "20 0.5638911724090576\n",
      "0 0.3846267759799957\n",
      "20 0.5026983618736267\n",
      "0 0.5096893310546875\n",
      "20 0.4414781928062439\n",
      "0 0.32999566197395325\n",
      "20 0.4789140820503235\n",
      "0 0.4556722044944763\n",
      "20 0.5249331593513489\n",
      "0 0.6112887859344482\n",
      "20 0.45650869607925415\n",
      "0 0.4502509832382202\n",
      "20 0.40454724431037903\n",
      "0 0.4834524095058441\n",
      "20 0.35242167115211487\n",
      "0 0.42991963028907776\n",
      "20 0.3371376395225525\n",
      "0 0.4088349938392639\n",
      "20 0.5240446925163269\n",
      "0 0.4170452952384949\n",
      "20 0.3667537271976471\n",
      "0 0.36323726177215576\n",
      "20 0.43416815996170044\n",
      "0 0.5465840101242065\n",
      "20 0.4225198030471802\n",
      "0 0.6627148985862732\n",
      "20 0.3681381642818451\n",
      "0 0.41164812445640564\n",
      "20 0.5301877856254578\n",
      "0 0.42180386185646057\n",
      "20 0.5189847946166992\n",
      "0 0.525862455368042\n",
      "20 0.36006924510002136\n",
      "0 0.3507436513900757\n",
      "20 0.3499998450279236\n",
      "0 0.5344997048377991\n",
      "20 0.4661419987678528\n",
      "0 0.3392961621284485\n",
      "20 0.43706023693084717\n",
      "0 0.5919924974441528\n",
      "20 0.4557962715625763\n",
      "0 0.3811454176902771\n",
      "20 0.5267894864082336\n",
      "0 0.34076187014579773\n",
      "20 0.576904833316803\n",
      "0 0.46446865797042847\n",
      "20 0.549565851688385\n",
      "0 0.4023902118206024\n",
      "20 0.40081682801246643\n"
     ]
    }
   ],
   "source": [
    "for epoch in range(50):\n",
    "#     print(epoch)\n",
    "    for i, data in enumerate(train_loader):\n",
    "        inputs, labels = data\n",
    "        \n",
    "        #forward pass\n",
    "        y_pred = model(inputs)\n",
    "        #print(y_pred)\n",
    "        loss = criterion(y_pred, labels)\n",
    "        #print loss\n",
    "#         print(epoch)\n",
    "        if epoch % 10 and i % 20 == 0:\n",
    "            print(i, loss.item())        \n",
    "        \n",
    "        # initialize gradient descent\n",
    "        optimizer.zero_grad()\n",
    "        loss.backward()\n",
    "        optimizer.step()\n",
    "        \n"
   ]
  },
  {
   "cell_type": "code",
   "execution_count": 66,
   "metadata": {},
   "outputs": [
    {
     "data": {
      "text/plain": [
       "tensor([[0],\n",
       "        [1],\n",
       "        [0],\n",
       "        [1],\n",
       "        [0],\n",
       "        [1],\n",
       "        [1],\n",
       "        [1],\n",
       "        [0],\n",
       "        [1]], dtype=torch.uint8)"
      ]
     },
     "execution_count": 66,
     "metadata": {},
     "output_type": "execute_result"
    }
   ],
   "source": [
    "model(Variable(torch.Tensor(xy[:10, 0 : -1 ]))) > 0.5"
   ]
  },
  {
   "cell_type": "code",
   "execution_count": 65,
   "metadata": {
    "scrolled": true
   },
   "outputs": [
    {
     "data": {
      "text/plain": [
       "array([[0.],\n",
       "       [1.],\n",
       "       [0.],\n",
       "       [1.],\n",
       "       [0.],\n",
       "       [1.],\n",
       "       [0.],\n",
       "       [1.],\n",
       "       [0.],\n",
       "       [0.]], dtype=float32)"
      ]
     },
     "execution_count": 65,
     "metadata": {},
     "output_type": "execute_result"
    }
   ],
   "source": [
    "xy[:10, [-1]]"
   ]
  },
  {
   "cell_type": "code",
   "execution_count": null,
   "metadata": {
    "collapsed": true
   },
   "outputs": [],
   "source": []
  }
 ],
 "metadata": {
  "kernelspec": {
   "display_name": "Python 3",
   "language": "python",
   "name": "python3"
  },
  "language_info": {
   "codemirror_mode": {
    "name": "ipython",
    "version": 3
   },
   "file_extension": ".py",
   "mimetype": "text/x-python",
   "name": "python",
   "nbconvert_exporter": "python",
   "pygments_lexer": "ipython3",
   "version": "3.6.2"
  }
 },
 "nbformat": 4,
 "nbformat_minor": 2
}
